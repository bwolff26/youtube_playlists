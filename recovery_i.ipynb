{
 "cells": [
  {
   "cell_type": "markdown",
   "id": "2523011b",
   "metadata": {},
   "source": [
    "Phew, we finally got done just getting the data. Perhaps I'm still too new to this, but I found that quite hard... At any rate, we did i!\n",
    "\n",
    "Now, part II of this project, and honestly the whole reason why I'm doing it, is to somehow find the lost songs that got privatized or deleted:"
   ]
  },
  {
   "cell_type": "code",
   "execution_count": 1,
   "id": "8022d786",
   "metadata": {},
   "outputs": [],
   "source": [
    "import pandas as pd"
   ]
  },
  {
   "cell_type": "code",
   "execution_count": 54,
   "id": "1f0b13db",
   "metadata": {},
   "outputs": [
    {
     "name": "stdout",
     "output_type": "stream",
     "text": [
      "(294, 5)\n"
     ]
    },
    {
     "data": {
      "text/html": [
       "<div>\n",
       "<style scoped>\n",
       "    .dataframe tbody tr th:only-of-type {\n",
       "        vertical-align: middle;\n",
       "    }\n",
       "\n",
       "    .dataframe tbody tr th {\n",
       "        vertical-align: top;\n",
       "    }\n",
       "\n",
       "    .dataframe thead th {\n",
       "        text-align: right;\n",
       "    }\n",
       "</style>\n",
       "<table border=\"1\" class=\"dataframe\">\n",
       "  <thead>\n",
       "    <tr style=\"text-align: right;\">\n",
       "      <th></th>\n",
       "      <th>titles</th>\n",
       "      <th>etags</th>\n",
       "      <th>ids</th>\n",
       "      <th>videoids</th>\n",
       "      <th>comments</th>\n",
       "    </tr>\n",
       "  </thead>\n",
       "  <tbody>\n",
       "    <tr>\n",
       "      <th>0</th>\n",
       "      <td>アイのシナリオ／CHiCO with HoneyWorks</td>\n",
       "      <td>7DOpxKxr9JYO8MF-1ZCs3A6fLIs</td>\n",
       "      <td>UExsZk9kS1JFM2hrRFVQVGcydTJ4NEUxOFNReFVwUnl4Sy...</td>\n",
       "      <td>P_At3pIE5BU</td>\n",
       "      <td>NaN</td>\n",
       "    </tr>\n",
       "    <tr>\n",
       "      <th>1</th>\n",
       "      <td>Deleted video</td>\n",
       "      <td>F4i9MnBa3jikQoSFurruAjXEOrY</td>\n",
       "      <td>UExsZk9kS1JFM2hrRFVQVGcydTJ4NEUxOFNReFVwUnl4Sy...</td>\n",
       "      <td>jHe-Cv-sfhY</td>\n",
       "      <td>[Hyouka] OP 1, Full Version - Yasashisa no Riy...</td>\n",
       "    </tr>\n",
       "    <tr>\n",
       "      <th>2</th>\n",
       "      <td>[HD] Gosick Opening 1【GOSICK ゴシック OP】 『Destin ...</td>\n",
       "      <td>rhf0m67ZxFBhXIe7Dywqsd_wGCg</td>\n",
       "      <td>UExsZk9kS1JFM2hrRFVQVGcydTJ4NEUxOFNReFVwUnl4Sy...</td>\n",
       "      <td>iOrkj_MFXm8</td>\n",
       "      <td>NaN</td>\n",
       "    </tr>\n",
       "    <tr>\n",
       "      <th>3</th>\n",
       "      <td>Re:Zero kara Hajimeru Isekai Seikatsu Ending F...</td>\n",
       "      <td>2z6AqCn_O0gvUi1u3QfpNU2Wza8</td>\n",
       "      <td>UExsZk9kS1JFM2hrRFVQVGcydTJ4NEUxOFNReFVwUnl4Sy...</td>\n",
       "      <td>HdQCWXh3XXU</td>\n",
       "      <td>NaN</td>\n",
       "    </tr>\n",
       "    <tr>\n",
       "      <th>4</th>\n",
       "      <td>Dusk maiden of Amnesia Opening Full [ Konomi S...</td>\n",
       "      <td>NOp6gme5aFg_Zj4buRGpV_TtjH0</td>\n",
       "      <td>UExsZk9kS1JFM2hrRFVQVGcydTJ4NEUxOFNReFVwUnl4Sy...</td>\n",
       "      <td>7iTCAirmYro</td>\n",
       "      <td>NaN</td>\n",
       "    </tr>\n",
       "  </tbody>\n",
       "</table>\n",
       "</div>"
      ],
      "text/plain": [
       "                                              titles  \\\n",
       "0                      アイのシナリオ／CHiCO with HoneyWorks   \n",
       "1                                      Deleted video   \n",
       "2  [HD] Gosick Opening 1【GOSICK ゴシック OP】 『Destin ...   \n",
       "3  Re:Zero kara Hajimeru Isekai Seikatsu Ending F...   \n",
       "4  Dusk maiden of Amnesia Opening Full [ Konomi S...   \n",
       "\n",
       "                         etags  \\\n",
       "0  7DOpxKxr9JYO8MF-1ZCs3A6fLIs   \n",
       "1  F4i9MnBa3jikQoSFurruAjXEOrY   \n",
       "2  rhf0m67ZxFBhXIe7Dywqsd_wGCg   \n",
       "3  2z6AqCn_O0gvUi1u3QfpNU2Wza8   \n",
       "4  NOp6gme5aFg_Zj4buRGpV_TtjH0   \n",
       "\n",
       "                                                 ids     videoids  \\\n",
       "0  UExsZk9kS1JFM2hrRFVQVGcydTJ4NEUxOFNReFVwUnl4Sy...  P_At3pIE5BU   \n",
       "1  UExsZk9kS1JFM2hrRFVQVGcydTJ4NEUxOFNReFVwUnl4Sy...  jHe-Cv-sfhY   \n",
       "2  UExsZk9kS1JFM2hrRFVQVGcydTJ4NEUxOFNReFVwUnl4Sy...  iOrkj_MFXm8   \n",
       "3  UExsZk9kS1JFM2hrRFVQVGcydTJ4NEUxOFNReFVwUnl4Sy...  HdQCWXh3XXU   \n",
       "4  UExsZk9kS1JFM2hrRFVQVGcydTJ4NEUxOFNReFVwUnl4Sy...  7iTCAirmYro   \n",
       "\n",
       "                                            comments  \n",
       "0                                                NaN  \n",
       "1  [Hyouka] OP 1, Full Version - Yasashisa no Riy...  \n",
       "2                                                NaN  \n",
       "3                                                NaN  \n",
       "4                                                NaN  "
      ]
     },
     "execution_count": 54,
     "metadata": {},
     "output_type": "execute_result"
    }
   ],
   "source": [
    "df = pd.read_csv('data/1st_Anime_Songs_2024-03-21.csv')\n",
    "print(df.shape)\n",
    "df.head()"
   ]
  },
  {
   "cell_type": "code",
   "execution_count": 55,
   "id": "1917d167",
   "metadata": {},
   "outputs": [
    {
     "data": {
      "text/plain": [
       "titles\n",
       "Deleted video    10\n",
       "Private video     4\n",
       "Name: count, dtype: int64"
      ]
     },
     "execution_count": 55,
     "metadata": {},
     "output_type": "execute_result"
    }
   ],
   "source": [
    "df['titles'].value_counts().head(2)"
   ]
  },
  {
   "cell_type": "code",
   "execution_count": 56,
   "id": "d82e3bd0",
   "metadata": {},
   "outputs": [
    {
     "data": {
      "text/html": [
       "<div>\n",
       "<style scoped>\n",
       "    .dataframe tbody tr th:only-of-type {\n",
       "        vertical-align: middle;\n",
       "    }\n",
       "\n",
       "    .dataframe tbody tr th {\n",
       "        vertical-align: top;\n",
       "    }\n",
       "\n",
       "    .dataframe thead th {\n",
       "        text-align: right;\n",
       "    }\n",
       "</style>\n",
       "<table border=\"1\" class=\"dataframe\">\n",
       "  <thead>\n",
       "    <tr style=\"text-align: right;\">\n",
       "      <th></th>\n",
       "      <th>titles</th>\n",
       "      <th>etags</th>\n",
       "      <th>ids</th>\n",
       "      <th>videoids</th>\n",
       "      <th>comments</th>\n",
       "    </tr>\n",
       "  </thead>\n",
       "  <tbody>\n",
       "    <tr>\n",
       "      <th>24</th>\n",
       "      <td>Private video</td>\n",
       "      <td>apLauWo4tU8ZcHeYs1y-hc7yaeo</td>\n",
       "      <td>UExsZk9kS1JFM2hrRFVQVGcydTJ4NEUxOFNReFVwUnl4Sy...</td>\n",
       "      <td>L0suACaorIY</td>\n",
       "      <td>NaN</td>\n",
       "    </tr>\n",
       "    <tr>\n",
       "      <th>68</th>\n",
       "      <td>Private video</td>\n",
       "      <td>DM49ynghgmwMCkh1ik_EmqXsEj0</td>\n",
       "      <td>UExsZk9kS1JFM2hrRFVQVGcydTJ4NEUxOFNReFVwUnl4Sy...</td>\n",
       "      <td>sODPG09AOXM</td>\n",
       "      <td>BRIGHT- Flower [Nightcore] + Romaji Lyrics fro...</td>\n",
       "    </tr>\n",
       "    <tr>\n",
       "      <th>82</th>\n",
       "      <td>Private video</td>\n",
       "      <td>YfV4RgaDGfVjvwKIW47eb4E8E7w</td>\n",
       "      <td>UExsZk9kS1JFM2hrRFVQVGcydTJ4NEUxOFNReFVwUnl4Sy...</td>\n",
       "      <td>hQY84NM_H7E</td>\n",
       "      <td>Nightcore - Way Back Home (Shaun) [Female Vers...</td>\n",
       "    </tr>\n",
       "    <tr>\n",
       "      <th>98</th>\n",
       "      <td>Private video</td>\n",
       "      <td>nJpq2KnLtl4qKd4t49oJo7LzpCc</td>\n",
       "      <td>UExsZk9kS1JFM2hrRFVQVGcydTJ4NEUxOFNReFVwUnl4Sy...</td>\n",
       "      <td>KTUrc26d5D8</td>\n",
       "      <td>AMV [Magic Kaito 1412 Opening 2] - Ai no Scena...</td>\n",
       "    </tr>\n",
       "  </tbody>\n",
       "</table>\n",
       "</div>"
      ],
      "text/plain": [
       "           titles                        etags  \\\n",
       "24  Private video  apLauWo4tU8ZcHeYs1y-hc7yaeo   \n",
       "68  Private video  DM49ynghgmwMCkh1ik_EmqXsEj0   \n",
       "82  Private video  YfV4RgaDGfVjvwKIW47eb4E8E7w   \n",
       "98  Private video  nJpq2KnLtl4qKd4t49oJo7LzpCc   \n",
       "\n",
       "                                                  ids     videoids  \\\n",
       "24  UExsZk9kS1JFM2hrRFVQVGcydTJ4NEUxOFNReFVwUnl4Sy...  L0suACaorIY   \n",
       "68  UExsZk9kS1JFM2hrRFVQVGcydTJ4NEUxOFNReFVwUnl4Sy...  sODPG09AOXM   \n",
       "82  UExsZk9kS1JFM2hrRFVQVGcydTJ4NEUxOFNReFVwUnl4Sy...  hQY84NM_H7E   \n",
       "98  UExsZk9kS1JFM2hrRFVQVGcydTJ4NEUxOFNReFVwUnl4Sy...  KTUrc26d5D8   \n",
       "\n",
       "                                             comments  \n",
       "24                                                NaN  \n",
       "68  BRIGHT- Flower [Nightcore] + Romaji Lyrics fro...  \n",
       "82  Nightcore - Way Back Home (Shaun) [Female Vers...  \n",
       "98  AMV [Magic Kaito 1412 Opening 2] - Ai no Scena...  "
      ]
     },
     "execution_count": 56,
     "metadata": {},
     "output_type": "execute_result"
    }
   ],
   "source": [
    "privates = df[df['titles']=='Private video']\n",
    "privates"
   ]
  },
  {
   "cell_type": "code",
   "execution_count": 57,
   "id": "cfed3671",
   "metadata": {},
   "outputs": [
    {
     "data": {
      "text/html": [
       "<div>\n",
       "<style scoped>\n",
       "    .dataframe tbody tr th:only-of-type {\n",
       "        vertical-align: middle;\n",
       "    }\n",
       "\n",
       "    .dataframe tbody tr th {\n",
       "        vertical-align: top;\n",
       "    }\n",
       "\n",
       "    .dataframe thead th {\n",
       "        text-align: right;\n",
       "    }\n",
       "</style>\n",
       "<table border=\"1\" class=\"dataframe\">\n",
       "  <thead>\n",
       "    <tr style=\"text-align: right;\">\n",
       "      <th></th>\n",
       "      <th>titles</th>\n",
       "      <th>etags</th>\n",
       "      <th>ids</th>\n",
       "      <th>videoids</th>\n",
       "      <th>comments</th>\n",
       "    </tr>\n",
       "  </thead>\n",
       "  <tbody>\n",
       "    <tr>\n",
       "      <th>1</th>\n",
       "      <td>Deleted video</td>\n",
       "      <td>F4i9MnBa3jikQoSFurruAjXEOrY</td>\n",
       "      <td>UExsZk9kS1JFM2hrRFVQVGcydTJ4NEUxOFNReFVwUnl4Sy...</td>\n",
       "      <td>jHe-Cv-sfhY</td>\n",
       "      <td>[Hyouka] OP 1, Full Version - Yasashisa no Riy...</td>\n",
       "    </tr>\n",
       "    <tr>\n",
       "      <th>6</th>\n",
       "      <td>Deleted video</td>\n",
       "      <td>t2nDKAM0LIed8XYQSz7yOAd4xVM</td>\n",
       "      <td>UExsZk9kS1JFM2hrRFVQVGcydTJ4NEUxOFNReFVwUnl4Sy...</td>\n",
       "      <td>zyJJlPSeEpo</td>\n",
       "      <td>麻枝 准×やなぎなぎ 「終わりの世界から」 from FlamingJune2012</td>\n",
       "    </tr>\n",
       "    <tr>\n",
       "      <th>13</th>\n",
       "      <td>Deleted video</td>\n",
       "      <td>I6My59K88FPmIVISQzfQrdxHWG0</td>\n",
       "      <td>UExsZk9kS1JFM2hrRFVQVGcydTJ4NEUxOFNReFVwUnl4Sy...</td>\n",
       "      <td>DfpoklQflNo</td>\n",
       "      <td>NaN</td>\n",
       "    </tr>\n",
       "    <tr>\n",
       "      <th>19</th>\n",
       "      <td>Deleted video</td>\n",
       "      <td>UjATeThBqnUGK5ntCYCESE3CwqI</td>\n",
       "      <td>UExsZk9kS1JFM2hrRFVQVGcydTJ4NEUxOFNReFVwUnl4Sy...</td>\n",
       "      <td>a4lUP_SzOPg</td>\n",
       "      <td>Wonderful Wonder World (Log Horizon)</td>\n",
       "    </tr>\n",
       "    <tr>\n",
       "      <th>20</th>\n",
       "      <td>Deleted video</td>\n",
       "      <td>h8-KQHQIeo7nB4TGpbnNjRbA0OI</td>\n",
       "      <td>UExsZk9kS1JFM2hrRFVQVGcydTJ4NEUxOFNReFVwUnl4Sy...</td>\n",
       "      <td>PfWAbH7_5nw</td>\n",
       "      <td>Hiina -&gt; HIde and Seek from Fainz</td>\n",
       "    </tr>\n",
       "    <tr>\n",
       "      <th>31</th>\n",
       "      <td>Deleted video</td>\n",
       "      <td>CNCYFGx9sq3Uqcex9V_Xu--6tfI</td>\n",
       "      <td>UExsZk9kS1JFM2hrRFVQVGcydTJ4NEUxOFNReFVwUnl4Sy...</td>\n",
       "      <td>4h3AIX1b7U0</td>\n",
       "      <td>Full OSt Ending Log Horizion (your song)</td>\n",
       "    </tr>\n",
       "    <tr>\n",
       "      <th>148</th>\n",
       "      <td>Deleted video</td>\n",
       "      <td>pTvvAI-6wxMDqUgXRO0HbG1xsb8</td>\n",
       "      <td>UExsZk9kS1JFM2hrRFVQVGcydTJ4NEUxOFNReFVwUnl4Sy...</td>\n",
       "      <td>tHv4W3wDFMM</td>\n",
       "      <td>Opening Hyouka Full Lyics HD - YT .... gah, th...</td>\n",
       "    </tr>\n",
       "    <tr>\n",
       "      <th>173</th>\n",
       "      <td>Deleted video</td>\n",
       "      <td>uXXiYKBAOQAv50iRxJmWv1RS6j0</td>\n",
       "      <td>UExsZk9kS1JFM2hrRFVQVGcydTJ4NEUxOFNReFVwUnl4Sy...</td>\n",
       "      <td>uZRP54cKK-0</td>\n",
       "      <td>NaN</td>\n",
       "    </tr>\n",
       "    <tr>\n",
       "      <th>181</th>\n",
       "      <td>Deleted video</td>\n",
       "      <td>473EjzICIBkmE4nxDRzJSEMEs1Q</td>\n",
       "      <td>UExsZk9kS1JFM2hrRFVQVGcydTJ4NEUxOFNReFVwUnl4Sy...</td>\n",
       "      <td>8ySmJPITz4k</td>\n",
       "      <td>SAO Reeona the one i Lik from Alicization ANIMA</td>\n",
       "    </tr>\n",
       "    <tr>\n",
       "      <th>197</th>\n",
       "      <td>Deleted video</td>\n",
       "      <td>T6Ej9XihOTcMmwaUIaLvUaleixA</td>\n",
       "      <td>UExsZk9kS1JFM2hrRFVQVGcydTJ4NEUxOFNReFVwUnl4Sy...</td>\n",
       "      <td>jvJXBn1sXSE</td>\n",
       "      <td>『おやすみモノクローム』Islet feat.倚水</td>\n",
       "    </tr>\n",
       "  </tbody>\n",
       "</table>\n",
       "</div>"
      ],
      "text/plain": [
       "            titles                        etags  \\\n",
       "1    Deleted video  F4i9MnBa3jikQoSFurruAjXEOrY   \n",
       "6    Deleted video  t2nDKAM0LIed8XYQSz7yOAd4xVM   \n",
       "13   Deleted video  I6My59K88FPmIVISQzfQrdxHWG0   \n",
       "19   Deleted video  UjATeThBqnUGK5ntCYCESE3CwqI   \n",
       "20   Deleted video  h8-KQHQIeo7nB4TGpbnNjRbA0OI   \n",
       "31   Deleted video  CNCYFGx9sq3Uqcex9V_Xu--6tfI   \n",
       "148  Deleted video  pTvvAI-6wxMDqUgXRO0HbG1xsb8   \n",
       "173  Deleted video  uXXiYKBAOQAv50iRxJmWv1RS6j0   \n",
       "181  Deleted video  473EjzICIBkmE4nxDRzJSEMEs1Q   \n",
       "197  Deleted video  T6Ej9XihOTcMmwaUIaLvUaleixA   \n",
       "\n",
       "                                                   ids     videoids  \\\n",
       "1    UExsZk9kS1JFM2hrRFVQVGcydTJ4NEUxOFNReFVwUnl4Sy...  jHe-Cv-sfhY   \n",
       "6    UExsZk9kS1JFM2hrRFVQVGcydTJ4NEUxOFNReFVwUnl4Sy...  zyJJlPSeEpo   \n",
       "13   UExsZk9kS1JFM2hrRFVQVGcydTJ4NEUxOFNReFVwUnl4Sy...  DfpoklQflNo   \n",
       "19   UExsZk9kS1JFM2hrRFVQVGcydTJ4NEUxOFNReFVwUnl4Sy...  a4lUP_SzOPg   \n",
       "20   UExsZk9kS1JFM2hrRFVQVGcydTJ4NEUxOFNReFVwUnl4Sy...  PfWAbH7_5nw   \n",
       "31   UExsZk9kS1JFM2hrRFVQVGcydTJ4NEUxOFNReFVwUnl4Sy...  4h3AIX1b7U0   \n",
       "148  UExsZk9kS1JFM2hrRFVQVGcydTJ4NEUxOFNReFVwUnl4Sy...  tHv4W3wDFMM   \n",
       "173  UExsZk9kS1JFM2hrRFVQVGcydTJ4NEUxOFNReFVwUnl4Sy...  uZRP54cKK-0   \n",
       "181  UExsZk9kS1JFM2hrRFVQVGcydTJ4NEUxOFNReFVwUnl4Sy...  8ySmJPITz4k   \n",
       "197  UExsZk9kS1JFM2hrRFVQVGcydTJ4NEUxOFNReFVwUnl4Sy...  jvJXBn1sXSE   \n",
       "\n",
       "                                              comments  \n",
       "1    [Hyouka] OP 1, Full Version - Yasashisa no Riy...  \n",
       "6           麻枝 准×やなぎなぎ 「終わりの世界から」 from FlamingJune2012  \n",
       "13                                                 NaN  \n",
       "19                Wonderful Wonder World (Log Horizon)  \n",
       "20                   Hiina -> HIde and Seek from Fainz  \n",
       "31            Full OSt Ending Log Horizion (your song)  \n",
       "148  Opening Hyouka Full Lyics HD - YT .... gah, th...  \n",
       "173                                                NaN  \n",
       "181    SAO Reeona the one i Lik from Alicization ANIMA  \n",
       "197                          『おやすみモノクローム』Islet feat.倚水  "
      ]
     },
     "execution_count": 57,
     "metadata": {},
     "output_type": "execute_result"
    }
   ],
   "source": [
    "deleteds = df[df['titles']=='Deleted video']\n",
    "deleteds"
   ]
  },
  {
   "cell_type": "code",
   "execution_count": 28,
   "id": "06832447",
   "metadata": {},
   "outputs": [],
   "source": [
    "#A huge thanks for Web.Archive for everything. In short, I just manually searched the 'videoids' and salvaged what I could.\n",
    "\n",
    "# Note that the default search is url this: https://www.youtube.com/watch?v=P_At3pIE5BU\n",
    "\n",
    "def comment_adder(df, row, comment):\n",
    "    df.loc[row, 'comments'] = comment\n",
    "    return df.loc[row, 'comments']"
   ]
  },
  {
   "cell_type": "code",
   "execution_count": 48,
   "id": "852bf8f3",
   "metadata": {},
   "outputs": [
    {
     "data": {
      "text/plain": [
       "'『おやすみモノクローム』Islet feat.倚水'"
      ]
     },
     "execution_count": 48,
     "metadata": {},
     "output_type": "execute_result"
    }
   ],
   "source": [
    "comment_adder(df,\n",
    "              197,\n",
    "'『おやすみモノクローム』Islet feat.倚水'\n",
    "             )"
   ]
  },
  {
   "cell_type": "code",
   "execution_count": 53,
   "id": "e3239e37",
   "metadata": {},
   "outputs": [],
   "source": [
    "df.to_csv(f\"data/1st_Anime_Songs_2024-03-21.csv\", index=False, mode = 'w') #A manual copy unfortunately"
   ]
  },
  {
   "cell_type": "code",
   "execution_count": 59,
   "id": "db752d65",
   "metadata": {},
   "outputs": [
    {
     "data": {
      "text/html": [
       "<div>\n",
       "<style scoped>\n",
       "    .dataframe tbody tr th:only-of-type {\n",
       "        vertical-align: middle;\n",
       "    }\n",
       "\n",
       "    .dataframe tbody tr th {\n",
       "        vertical-align: top;\n",
       "    }\n",
       "\n",
       "    .dataframe thead th {\n",
       "        text-align: right;\n",
       "    }\n",
       "</style>\n",
       "<table border=\"1\" class=\"dataframe\">\n",
       "  <thead>\n",
       "    <tr style=\"text-align: right;\">\n",
       "      <th></th>\n",
       "      <th>titles</th>\n",
       "      <th>etags</th>\n",
       "      <th>ids</th>\n",
       "      <th>videoids</th>\n",
       "      <th>comments</th>\n",
       "    </tr>\n",
       "  </thead>\n",
       "  <tbody>\n",
       "  </tbody>\n",
       "</table>\n",
       "</div>"
      ],
      "text/plain": [
       "Empty DataFrame\n",
       "Columns: [titles, etags, ids, videoids, comments]\n",
       "Index: []"
      ]
     },
     "execution_count": 59,
     "metadata": {},
     "output_type": "execute_result"
    }
   ],
   "source": [
    "df[df['titles'].str.contains(\"Home\")]"
   ]
  },
  {
   "cell_type": "markdown",
   "id": "77a0c143",
   "metadata": {},
   "source": [
    "## Part II\n",
    "\n",
    "Well, we achived our main goal - making a list of our Youtube videos as well as recovering the majoriy (approx. 80%) of removed ones.\n",
    "\n",
    "However, something else I'd like to do is to confirm if a song is already in the list. However, this is more of a minor issue as, besides the consideration of different versions of a song (and oh how the words of my father, an 'avid' vinyl music collector was... but that's a tale no for now), if I like the song who cares...\n",
    "\n",
    "Another move would be to further automate using web.archive, however likely that would be too complicated... We'll condlude this project for now (3/21/24) and call it an overwhelming win."
   ]
  },
  {
   "cell_type": "code",
   "execution_count": null,
   "id": "7441a915",
   "metadata": {},
   "outputs": [],
   "source": []
  }
 ],
 "metadata": {
  "kernelspec": {
   "display_name": "Python 3 (ipykernel)",
   "language": "python",
   "name": "python3"
  },
  "language_info": {
   "codemirror_mode": {
    "name": "ipython",
    "version": 3
   },
   "file_extension": ".py",
   "mimetype": "text/x-python",
   "name": "python",
   "nbconvert_exporter": "python",
   "pygments_lexer": "ipython3",
   "version": "3.11.5"
  }
 },
 "nbformat": 4,
 "nbformat_minor": 5
}
