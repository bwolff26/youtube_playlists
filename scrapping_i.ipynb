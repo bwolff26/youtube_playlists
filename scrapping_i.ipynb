{
 "cells": [
  {
   "cell_type": "markdown",
   "id": "667ad3bb",
   "metadata": {},
   "source": [
    "First project, albeit it's a tame one, after GA's ended. Let's do it!\n",
    "\n",
    "In comparison, liekly this is equivelant to a lab. Regardless, let's do it [and anyways, labs were great!]. Furthermore, the rigour of doing my own thing... plus, this is actually useful to me! Was going to manaully do like 5 songs a day and of  cousrse I stopped after a few days #yeahright_noob"
   ]
  },
  {
   "cell_type": "code",
   "execution_count": 1,
   "id": "b76e2fa7",
   "metadata": {},
   "outputs": [],
   "source": [
    "import requests\n",
    "from bs4 import BeautifulSoup\n",
    "\n",
    "import pandas as pd"
   ]
  },
  {
   "cell_type": "code",
   "execution_count": 2,
   "id": "40d94447",
   "metadata": {},
   "outputs": [
    {
     "name": "stdout",
     "output_type": "stream",
     "text": [
      "200\n"
     ]
    }
   ],
   "source": [
    "#We'll work on an ignore file later, for now we'll just manually post my playlist...should be private anyways:\n",
    "url = 'https://www.youtube.com/playlist?list=PLlfOdKRE3hkDUPTg2u2x4E18SQxUpRyxK'\n",
    "\n",
    "req = requests.get(url)\n",
    "print(req.status_code)"
   ]
  },
  {
   "cell_type": "code",
   "execution_count": null,
   "id": "f1145b12",
   "metadata": {},
   "outputs": [],
   "source": []
  },
  {
   "cell_type": "code",
   "execution_count": null,
   "id": "7d9f6af7",
   "metadata": {},
   "outputs": [],
   "source": []
  }
 ],
 "metadata": {
  "kernelspec": {
   "display_name": "Python 3 (ipykernel)",
   "language": "python",
   "name": "python3"
  },
  "language_info": {
   "codemirror_mode": {
    "name": "ipython",
    "version": 3
   },
   "file_extension": ".py",
   "mimetype": "text/x-python",
   "name": "python",
   "nbconvert_exporter": "python",
   "pygments_lexer": "ipython3",
   "version": "3.11.5"
  }
 },
 "nbformat": 4,
 "nbformat_minor": 5
}
