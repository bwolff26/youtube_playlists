{
 "cells": [
  {
   "cell_type": "markdown",
   "id": "672f9095",
   "metadata": {},
   "source": [
    "Yeah, I'm already giving up... too crazy. Pragmatically, I should work on it though."
   ]
  },
  {
   "cell_type": "code",
   "execution_count": 12,
   "id": "d9f50b5b",
   "metadata": {},
   "outputs": [],
   "source": [
    "import pandas as pd\n",
    "import googleapiclient.discovery\n",
    "from datetime import date"
   ]
  },
  {
   "cell_type": "code",
   "execution_count": 6,
   "id": "d4d16b89",
   "metadata": {},
   "outputs": [],
   "source": [
    "#Inside a .py file 'currentsecrets' are my youtube token, user is, and a playlist dictionary with a number of playlists:\n",
    "#their titles and links. Reminder that any playlist needs to be \n",
    "\n",
    "from currentsecrets import youtube_token, user_id, playlist_dictionary"
   ]
  },
  {
   "cell_type": "code",
   "execution_count": 7,
   "id": "382c59bb",
   "metadata": {},
   "outputs": [],
   "source": [
    "youtube = googleapiclient.discovery.build(\"youtube\"\n",
    "                                         ,\"v3\"\n",
    "                                         ,developerKey=youtube_token)"
   ]
  },
  {
   "cell_type": "code",
   "execution_count": 11,
   "id": "e1a5be7f",
   "metadata": {},
   "outputs": [
    {
     "name": "stdout",
     "output_type": "stream",
     "text": [
      "50\n",
      "100\n",
      "150\n",
      "200\n",
      "250\n",
      "294\n"
     ]
    }
   ],
   "source": [
    "etags, ids, titles, videoid = [], [], [], []\n",
    "npt = '' #Future variable for storing th next page tokens\n",
    "\n",
    "#Note that the playlist id needs to be at least unlisted, as otherwise having the link is useless.\n",
    "playlist_id =  playlist_dictionary[0]['link']\n",
    "#Ie the guy that starts in the url 'Pl'\n",
    "#,which should be after 'playlist?list='\n",
    "\n",
    "while npt != False:\n",
    "\n",
    "    next_iter = youtube.playlistItems().list(\n",
    "        part = 'snippet'\n",
    "        ,playlistId=playlist_id\n",
    "        ,maxResults=50\n",
    "        ,pageToken=npt\n",
    "    ).execute()\n",
    "\n",
    "    try:\n",
    "        npt = next_iter['nextPageToken']\n",
    "    except:\n",
    "        npt = False\n",
    "    \n",
    "    for i in range(len(next_iter['items'])):\n",
    "        etags.append(next_iter['items'][i]['etag'])\n",
    "        ids.append(next_iter['items'][i]['id'])\n",
    "        titles.append(next_iter['items'][i]['snippet']['title'])\n",
    "        videoid.append(next_iter['items'][i]['snippet']['resourceId']['videoId'])\n",
    "\n",
    "    print(f\"We've logged {len(titles)} videos already!\") #Hmm, now let's take this up a step and just have a giant loop for all the playlists desired,\n",
    "    #"
   ]
  },
  {
   "cell_type": "code",
   "execution_count": 19,
   "id": "66aef2e3",
   "metadata": {},
   "outputs": [
    {
     "data": {
      "text/plain": [
       "'1st_Anime_Songs_2024-03-21'"
      ]
     },
     "execution_count": 19,
     "metadata": {},
     "output_type": "execute_result"
    }
   ],
   "source": [
    "name = playlist_dictionary[0]['title'] + '_' + str(date.today())\n",
    "name"
   ]
  },
  {
   "cell_type": "code",
   "execution_count": 21,
   "id": "e1173432",
   "metadata": {},
   "outputs": [],
   "source": [
    "df = pd.DataFrame({\n",
    "    'titles':titles\n",
    "    ,'etags':etags\n",
    "    ,'ids':ids\n",
    "    ,'videoids':videoid\n",
    "})"
   ]
  },
  {
   "cell_type": "code",
   "execution_count": 22,
   "id": "3d5dc5ec",
   "metadata": {},
   "outputs": [
    {
     "data": {
      "text/html": [
       "<div>\n",
       "<style scoped>\n",
       "    .dataframe tbody tr th:only-of-type {\n",
       "        vertical-align: middle;\n",
       "    }\n",
       "\n",
       "    .dataframe tbody tr th {\n",
       "        vertical-align: top;\n",
       "    }\n",
       "\n",
       "    .dataframe thead th {\n",
       "        text-align: right;\n",
       "    }\n",
       "</style>\n",
       "<table border=\"1\" class=\"dataframe\">\n",
       "  <thead>\n",
       "    <tr style=\"text-align: right;\">\n",
       "      <th></th>\n",
       "      <th>titles</th>\n",
       "      <th>etags</th>\n",
       "      <th>ids</th>\n",
       "      <th>videoids</th>\n",
       "    </tr>\n",
       "  </thead>\n",
       "  <tbody>\n",
       "    <tr>\n",
       "      <th>0</th>\n",
       "      <td>アイのシナリオ／CHiCO with HoneyWorks</td>\n",
       "      <td>7DOpxKxr9JYO8MF-1ZCs3A6fLIs</td>\n",
       "      <td>UExsZk9kS1JFM2hrRFVQVGcydTJ4NEUxOFNReFVwUnl4Sy...</td>\n",
       "      <td>P_At3pIE5BU</td>\n",
       "    </tr>\n",
       "    <tr>\n",
       "      <th>1</th>\n",
       "      <td>Deleted video</td>\n",
       "      <td>F4i9MnBa3jikQoSFurruAjXEOrY</td>\n",
       "      <td>UExsZk9kS1JFM2hrRFVQVGcydTJ4NEUxOFNReFVwUnl4Sy...</td>\n",
       "      <td>jHe-Cv-sfhY</td>\n",
       "    </tr>\n",
       "    <tr>\n",
       "      <th>2</th>\n",
       "      <td>[HD] Gosick Opening 1【GOSICK ゴシック OP】 『Destin ...</td>\n",
       "      <td>rhf0m67ZxFBhXIe7Dywqsd_wGCg</td>\n",
       "      <td>UExsZk9kS1JFM2hrRFVQVGcydTJ4NEUxOFNReFVwUnl4Sy...</td>\n",
       "      <td>iOrkj_MFXm8</td>\n",
       "    </tr>\n",
       "    <tr>\n",
       "      <th>3</th>\n",
       "      <td>Re:Zero kara Hajimeru Isekai Seikatsu Ending F...</td>\n",
       "      <td>2z6AqCn_O0gvUi1u3QfpNU2Wza8</td>\n",
       "      <td>UExsZk9kS1JFM2hrRFVQVGcydTJ4NEUxOFNReFVwUnl4Sy...</td>\n",
       "      <td>HdQCWXh3XXU</td>\n",
       "    </tr>\n",
       "    <tr>\n",
       "      <th>4</th>\n",
       "      <td>Dusk maiden of Amnesia Opening Full [ Konomi S...</td>\n",
       "      <td>NOp6gme5aFg_Zj4buRGpV_TtjH0</td>\n",
       "      <td>UExsZk9kS1JFM2hrRFVQVGcydTJ4NEUxOFNReFVwUnl4Sy...</td>\n",
       "      <td>7iTCAirmYro</td>\n",
       "    </tr>\n",
       "  </tbody>\n",
       "</table>\n",
       "</div>"
      ],
      "text/plain": [
       "                                              titles  \\\n",
       "0                      アイのシナリオ／CHiCO with HoneyWorks   \n",
       "1                                      Deleted video   \n",
       "2  [HD] Gosick Opening 1【GOSICK ゴシック OP】 『Destin ...   \n",
       "3  Re:Zero kara Hajimeru Isekai Seikatsu Ending F...   \n",
       "4  Dusk maiden of Amnesia Opening Full [ Konomi S...   \n",
       "\n",
       "                         etags  \\\n",
       "0  7DOpxKxr9JYO8MF-1ZCs3A6fLIs   \n",
       "1  F4i9MnBa3jikQoSFurruAjXEOrY   \n",
       "2  rhf0m67ZxFBhXIe7Dywqsd_wGCg   \n",
       "3  2z6AqCn_O0gvUi1u3QfpNU2Wza8   \n",
       "4  NOp6gme5aFg_Zj4buRGpV_TtjH0   \n",
       "\n",
       "                                                 ids     videoids  \n",
       "0  UExsZk9kS1JFM2hrRFVQVGcydTJ4NEUxOFNReFVwUnl4Sy...  P_At3pIE5BU  \n",
       "1  UExsZk9kS1JFM2hrRFVQVGcydTJ4NEUxOFNReFVwUnl4Sy...  jHe-Cv-sfhY  \n",
       "2  UExsZk9kS1JFM2hrRFVQVGcydTJ4NEUxOFNReFVwUnl4Sy...  iOrkj_MFXm8  \n",
       "3  UExsZk9kS1JFM2hrRFVQVGcydTJ4NEUxOFNReFVwUnl4Sy...  HdQCWXh3XXU  \n",
       "4  UExsZk9kS1JFM2hrRFVQVGcydTJ4NEUxOFNReFVwUnl4Sy...  7iTCAirmYro  "
      ]
     },
     "execution_count": 22,
     "metadata": {},
     "output_type": "execute_result"
    }
   ],
   "source": [
    "df.head()"
   ]
  },
  {
   "cell_type": "code",
   "execution_count": 23,
   "id": "a191d066",
   "metadata": {},
   "outputs": [],
   "source": [
    "df.to_csv(f\"data/{name}.csv\", index=False, mode = 'w') #"
   ]
  },
  {
   "cell_type": "code",
   "execution_count": 8,
   "id": "962cfa27",
   "metadata": {},
   "outputs": [
    {
     "data": {
      "text/plain": [
       "{'title': '1st_Anime_Songs', 'link': 'PLlfOdKRE3hkDUPTg2u2x4E18SQxUpRyxK'}"
      ]
     },
     "execution_count": 8,
     "metadata": {},
     "output_type": "execute_result"
    }
   ],
   "source": [
    "playlist_dictionary[0]['link']"
   ]
  },
  {
   "cell_type": "markdown",
   "id": "fccbde7c",
   "metadata": {},
   "source": [
    "I'll keep at least one example of what the API returns:\n",
    "\n",
    "next_iter[0]\n",
    "\n",
    "{'kind': 'youtube#playlistItem',\n",
    "<br> 'etag': 'nf3yYqd54cVOTbzTws37bdMItDk',\n",
    "<br> 'id': 'UExsZk9kS1JFM2hrRFVQVGcydTJ4NEUxOFNReFVwUnl4Sy41QTQ4QTIyM0Y1RTBGMUNE',\n",
    "<br> 'snippet': {'publishedAt': '2020-07-08T18:25:45Z',\n",
    "<br>  'channelId': {whatever it is},\n",
    "<br>  'title': '┗|∵|┓ミスター・ダーリン／HoneyWorks feat.初音ミク',\n",
    "<br>  'description': 'ミスター・ダーリン／CHiCO with HoneyWorks meets 中川翔子\\nのボカロcoverです。\\n\\nCHiCO with HoneyWorks 10th Single\\n「ミスター・ダーリン／ギミギミコール」\\n2018年11月7日発売\\n\\n＜CHiCO with HoneyWorks meets 中川翔子盤＞\\n▶Amazon\\u3000http://amzn.asia/d/82aqMBe\\n＜CHiCO with HoneyWorks meets スカイピース盤＞\\n▶Amazon\\u3000http://amzn.asia/d/7XI1yYS\\n\\n◆ボーカル：初音ミク\\n\\n◆作編曲：HoneyWorks\\n\\n◆ギター：中西\\n◆ベース：shito\\n◆ピアノ：cake\\n◆ドラム：裕木レオン\\n◆ストリングスアレンジ：堤 博明\\n◆ストリングス：門脇大輔ストリングス\\n\\n■イラスト：ヤマコ\\n■ロゴ、動画：モゲラッタ\\n\\n■スペシャルサンクス：桐谷\\n\\nカラオケ→https://com.nicovideo.jp/community/co474645',\n",
    "<br>  'thumbnails': {'default': {'url': 'https://i.ytimg.com/vi/L8s6349tDKs/default.jpg',\n",
    "<br>    'width': 120,\n",
    "<br>    'height': 90},\n",
    "<br>   'medium': {'url': 'https://i.ytimg.com/vi/L8s6349tDKs/mqdefault.jpg',\n",
    "<br>    'width': 320,\n",
    "<br>    'height': 180},\n",
    "<br>   'high': {'url': 'https://i.ytimg.com/vi/L8s6349tDKs/hqdefault.jpg',\n",
    "<br>    'width': 480,\n",
    "<br>    'height': 360},\n",
    "<br>   'standard': {'url': 'https://i.ytimg.com/vi/L8s6349tDKs/sddefault.jpg',\n",
    "<br>    'width': 640,\n",
    "<br>    'height': 480}},\n",
    "<br>  'channelTitle': {whatever it is},\n",
    "<br>  'playlistId': {whatever it is},\n",
    "<br>  'position': 49,\n",
    "<br>  'resourceId': {'kind': 'youtube#video', 'videoId': 'L8s6349tDKs'},\n",
    "<br>  'videoOwnerChannelTitle': 'HoneyWorks OFFICIAL',\n",
    "<br>  'videoOwnerChannelId': 'UCAaGaynFpku5cAx6OOSrW-w'}}"
   ]
  }
 ],
 "metadata": {
  "kernelspec": {
   "display_name": "Python 3 (ipykernel)",
   "language": "python",
   "name": "python3"
  },
  "language_info": {
   "codemirror_mode": {
    "name": "ipython",
    "version": 3
   },
   "file_extension": ".py",
   "mimetype": "text/x-python",
   "name": "python",
   "nbconvert_exporter": "python",
   "pygments_lexer": "ipython3",
   "version": "3.11.5"
  }
 },
 "nbformat": 4,
 "nbformat_minor": 5
}
