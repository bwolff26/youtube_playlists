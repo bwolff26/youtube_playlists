{
 "cells": [
  {
   "cell_type": "code",
   "execution_count": 6,
   "id": "73bcae6f",
   "metadata": {},
   "outputs": [],
   "source": [
    "import os\n",
    "\n",
    "import google.oauth2.credentials\n",
    "import google_auth_oauthlib.flow\n",
    "from googleapiclient.discovery import build\n",
    "from googleapiclient.errors import HttpError\n",
    "from google_auth_oauthlib.flow import InstalledAppFlow"
   ]
  },
  {
   "cell_type": "code",
   "execution_count": 1,
   "id": "02cac310",
   "metadata": {},
   "outputs": [],
   "source": [
    "# pip install --upgrade google_auth_oauthlib"
   ]
  },
  {
   "cell_type": "code",
   "execution_count": 1,
   "id": "5e2191d8",
   "metadata": {},
   "outputs": [],
   "source": [
    "# pip install --upgrade Youtube"
   ]
  },
  {
   "cell_type": "code",
   "execution_count": 5,
   "id": "190cbea2",
   "metadata": {},
   "outputs": [],
   "source": [
    "CLIENT_SECRETS_FILE = 'client_secret.json'\n",
    "\n",
    "SCOPES = ['https://www.googleapis.com/auth/youtube']\n",
    "API_SERVICE_NAME = 'youtube'\n",
    "API_VERSION = 'v3'\n",
    "\n",
    "ACTIONS = ('get', 'list', 'set')\n",
    "\n",
    "# Authorize the request and store authorization credentials.\n",
    "def get_authenticated_service():\n",
    "    flow = InstalledAppFlow.from_client_secrets_file(CLIENT_SECRETS_FILE, SCOPES)\n",
    "    credentials = flow.client_config()\n",
    "    return build(API_SERVICE_NAME, API_VERSION, credentials = credentials)"
   ]
  },
  {
   "cell_type": "code",
   "execution_count": 6,
   "id": "d60d18b8",
   "metadata": {},
   "outputs": [
    {
     "ename": "TypeError",
     "evalue": "'dict' object is not callable",
     "output_type": "error",
     "traceback": [
      "\u001b[1;31m---------------------------------------------------------------------------\u001b[0m",
      "\u001b[1;31mTypeError\u001b[0m                                 Traceback (most recent call last)",
      "Cell \u001b[1;32mIn[6], line 1\u001b[0m\n\u001b[1;32m----> 1\u001b[0m get_authenticated_service()\n",
      "Cell \u001b[1;32mIn[5], line 12\u001b[0m, in \u001b[0;36mget_authenticated_service\u001b[1;34m()\u001b[0m\n\u001b[0;32m     10\u001b[0m \u001b[38;5;28;01mdef\u001b[39;00m \u001b[38;5;21mget_authenticated_service\u001b[39m():\n\u001b[0;32m     11\u001b[0m     flow \u001b[38;5;241m=\u001b[39m InstalledAppFlow\u001b[38;5;241m.\u001b[39mfrom_client_secrets_file(CLIENT_SECRETS_FILE, SCOPES)\n\u001b[1;32m---> 12\u001b[0m     credentials \u001b[38;5;241m=\u001b[39m flow\u001b[38;5;241m.\u001b[39mclient_config()\n\u001b[0;32m     13\u001b[0m     \u001b[38;5;28;01mreturn\u001b[39;00m build(API_SERVICE_NAME, API_VERSION, credentials \u001b[38;5;241m=\u001b[39m credentials)\n",
      "\u001b[1;31mTypeError\u001b[0m: 'dict' object is not callable"
     ]
    }
   ],
   "source": [
    "get_authenticated_service()"
   ]
  },
  {
   "cell_type": "code",
   "execution_count": null,
   "id": "2b28b6c1",
   "metadata": {},
   "outputs": [],
   "source": [
    "# Call the API's playlists.update method to update an existing playlist's default language,\n",
    "# localized title and description in a specific language.\n",
    "def set_playlist_localization(youtube, args):\n",
    "\n",
    "  results = youtube.playlists().list(\n",
    "    part='snippet,localizations',\n",
    "    id=args.playlist_id\n",
    "  ).execute()\n",
    "\n",
    "  playlist = results['items'][0]\n",
    "\n",
    "  # If the language argument is set, set the localized title and description\n",
    "  # for that language. The \"title\" and \"description\" arguments have default\n",
    "  # values to make the script simpler to run as a demo. In an actual app, you\n",
    "  # would likely want to set those arguments also.\n",
    "  if args.language and args.language != '':\n",
    "    if 'localizations' not in playlist:\n",
    "      playlist['localizations'] = {}\n",
    "\n",
    "    playlist['localizations'][args.language] = {\n",
    "      'title': args.title,\n",
    "      'description': args.description\n",
    "    }\n",
    "\n",
    "  # If the default language is set AND there is localized metadata for that\n",
    "  # language, set the video's title and description to match the localized\n",
    "  # title and description for the newly set default language.\n",
    "  if args.default_language:\n",
    "    playlist['snippet']['defaultLanguage'] = args.default_language\n",
    "    if args.default_language in playlist['localizations']:\n",
    "      playlist['snippet']['title'] = (\n",
    "          playlist['localizations'][args.default_language]['title'])\n",
    "      playlist['snippet']['description'] = (\n",
    "          playlist['localizations'][args.default_language]['description'])\n",
    "\n",
    "  print(playlist)\n"
   ]
  },
  {
   "cell_type": "code",
   "execution_count": 7,
   "id": "300b8e45",
   "metadata": {},
   "outputs": [
    {
     "ename": "ModuleNotFoundError",
     "evalue": "No module named 'youtube'",
     "output_type": "error",
     "traceback": [
      "\u001b[1;31m---------------------------------------------------------------------------\u001b[0m",
      "\u001b[1;31mModuleNotFoundError\u001b[0m                       Traceback (most recent call last)",
      "Cell \u001b[1;32mIn[7], line 1\u001b[0m\n\u001b[1;32m----> 1\u001b[0m \u001b[38;5;28;01mfrom\u001b[39;00m \u001b[38;5;21;01myoutube\u001b[39;00m \u001b[38;5;28;01mimport\u001b[39;00m Youtube\n",
      "\u001b[1;31mModuleNotFoundError\u001b[0m: No module named 'youtube'"
     ]
    }
   ],
   "source": [
    "CLIENT_SECRETS_FILE = 'client_secret.json'\n",
    "\n",
    "yt = Youtube"
   ]
  },
  {
   "cell_type": "code",
   "execution_count": null,
   "id": "88c1a1de",
   "metadata": {},
   "outputs": [],
   "source": []
  },
  {
   "cell_type": "code",
   "execution_count": 8,
   "id": "129be2df",
   "metadata": {},
   "outputs": [
    {
     "ename": "AttributeError",
     "evalue": "'function' object has no attribute 'func_name'",
     "output_type": "error",
     "traceback": [
      "\u001b[1;31m---------------------------------------------------------------------------\u001b[0m",
      "\u001b[1;31mAttributeError\u001b[0m                            Traceback (most recent call last)",
      "Cell \u001b[1;32mIn[8], line 1\u001b[0m\n\u001b[1;32m----> 1\u001b[0m \u001b[38;5;28;01mimport\u001b[39;00m \u001b[38;5;21;01mgdata\u001b[39;00m\u001b[38;5;21;01m.\u001b[39;00m\u001b[38;5;21;01myoutube\u001b[39;00m\n\u001b[0;32m      2\u001b[0m \u001b[38;5;28;01mimport\u001b[39;00m \u001b[38;5;21;01mgdata\u001b[39;00m\u001b[38;5;21;01m.\u001b[39;00m\u001b[38;5;21;01myoutube\u001b[39;00m\u001b[38;5;21;01m.\u001b[39;00m\u001b[38;5;21;01mservice\u001b[39;00m\n",
      "File \u001b[1;32m~\\AppData\\Roaming\\Python\\Python311\\site-packages\\gdata\\__init__.py:27\u001b[0m\n\u001b[0;32m     24\u001b[0m __author__ \u001b[38;5;241m=\u001b[39m \u001b[38;5;124m'\u001b[39m\u001b[38;5;124mj.s@google.com (Jeffrey Scudder)\u001b[39m\u001b[38;5;124m'\u001b[39m\n\u001b[0;32m     26\u001b[0m \u001b[38;5;28;01mimport\u001b[39;00m \u001b[38;5;21;01mos\u001b[39;00m\n\u001b[1;32m---> 27\u001b[0m \u001b[38;5;28;01mimport\u001b[39;00m \u001b[38;5;21;01matom\u001b[39;00m\n\u001b[0;32m     28\u001b[0m \u001b[38;5;28;01mtry\u001b[39;00m:\n\u001b[0;32m     29\u001b[0m   \u001b[38;5;28;01mfrom\u001b[39;00m \u001b[38;5;21;01mxml\u001b[39;00m\u001b[38;5;21;01m.\u001b[39;00m\u001b[38;5;21;01metree\u001b[39;00m \u001b[38;5;28;01mimport\u001b[39;00m cElementTree \u001b[38;5;28;01mas\u001b[39;00m ElementTree\n",
      "File \u001b[1;32m~\\AppData\\Roaming\\Python\\Python311\\site-packages\\atom\\__init__.py:131\u001b[0m\n\u001b[0;32m    127\u001b[0m   tree \u001b[38;5;241m=\u001b[39m ElementTree\u001b[38;5;241m.\u001b[39mfromstring(xml_string)\n\u001b[0;32m    128\u001b[0m   \u001b[38;5;28;01mreturn\u001b[39;00m _CreateClassFromElementTree(target_class, tree)\n\u001b[1;32m--> 131\u001b[0m CreateClassFromXMLString \u001b[38;5;241m=\u001b[39m v1_deprecated(\n\u001b[0;32m    132\u001b[0m     \u001b[38;5;124m'\u001b[39m\u001b[38;5;124mPlease use atom.core.parse with atom.data classes instead.\u001b[39m\u001b[38;5;124m'\u001b[39m)(\n\u001b[0;32m    133\u001b[0m         CreateClassFromXMLString)\n\u001b[0;32m    136\u001b[0m \u001b[38;5;28;01mdef\u001b[39;00m \u001b[38;5;21m_CreateClassFromElementTree\u001b[39m(target_class, tree, namespace\u001b[38;5;241m=\u001b[39m\u001b[38;5;28;01mNone\u001b[39;00m, tag\u001b[38;5;241m=\u001b[39m\u001b[38;5;28;01mNone\u001b[39;00m):\n\u001b[0;32m    137\u001b[0m \u001b[38;5;250m  \u001b[39m\u001b[38;5;124;03m\"\"\"Instantiates the class and populates members according to the tree.\u001b[39;00m\n\u001b[0;32m    138\u001b[0m \n\u001b[0;32m    139\u001b[0m \u001b[38;5;124;03m  Note: Only use this function with classes that have _namespace and _tag\u001b[39;00m\n\u001b[1;32m   (...)\u001b[0m\n\u001b[0;32m    156\u001b[0m \u001b[38;5;124;03m      the XML tree's root node did not match the desired namespace and tag.\u001b[39;00m\n\u001b[0;32m    157\u001b[0m \u001b[38;5;124;03m  \"\"\"\u001b[39;00m\n",
      "File \u001b[1;32m~\\AppData\\Roaming\\Python\\Python311\\site-packages\\atom\\__init__.py:97\u001b[0m, in \u001b[0;36mv1_deprecated.<locals>.mark_deprecated\u001b[1;34m(f)\u001b[0m\n\u001b[0;32m     94\u001b[0m \u001b[38;5;66;03m# Preserve the original name to avoid masking all decorated functions as\u001b[39;00m\n\u001b[0;32m     95\u001b[0m \u001b[38;5;66;03m# 'deprecated_function'\u001b[39;00m\n\u001b[0;32m     96\u001b[0m \u001b[38;5;28;01mtry\u001b[39;00m:\n\u001b[1;32m---> 97\u001b[0m   optional_warn_function\u001b[38;5;241m.\u001b[39mfunc_name \u001b[38;5;241m=\u001b[39m f\u001b[38;5;241m.\u001b[39mfunc_name\n\u001b[0;32m     98\u001b[0m \u001b[38;5;28;01mexcept\u001b[39;00m \u001b[38;5;167;01mTypeError\u001b[39;00m:\n\u001b[0;32m     99\u001b[0m   \u001b[38;5;28;01mpass\u001b[39;00m \u001b[38;5;66;03m# In Python2.3 we can't set the func_name\u001b[39;00m\n",
      "\u001b[1;31mAttributeError\u001b[0m: 'function' object has no attribute 'func_name'"
     ]
    }
   ],
   "source": [
    "import gdata.youtube\n",
    "import gdata.youtube.service"
   ]
  },
  {
   "cell_type": "code",
   "execution_count": 7,
   "id": "9ee1de7a",
   "metadata": {},
   "outputs": [
    {
     "ename": "NameError",
     "evalue": "name 'gdata' is not defined",
     "output_type": "error",
     "traceback": [
      "\u001b[1;31m---------------------------------------------------------------------------\u001b[0m",
      "\u001b[1;31mNameError\u001b[0m                                 Traceback (most recent call last)",
      "Cell \u001b[1;32mIn[7], line 1\u001b[0m\n\u001b[1;32m----> 1\u001b[0m yt_service \u001b[38;5;241m=\u001b[39m gdata\u001b[38;5;241m.\u001b[39myoutube\u001b[38;5;241m.\u001b[39mservice\u001b[38;5;241m.\u001b[39mYouTubeService()\n\u001b[0;32m      2\u001b[0m yt_service\u001b[38;5;241m.\u001b[39mssl \u001b[38;5;241m=\u001b[39m \u001b[38;5;28;01mTrue\u001b[39;00m\n\u001b[0;32m      4\u001b[0m \u001b[38;5;66;03m# a typical playlist URI\u001b[39;00m\n",
      "\u001b[1;31mNameError\u001b[0m: name 'gdata' is not defined"
     ]
    }
   ],
   "source": [
    "yt_service = gdata.youtube.service.YouTubeService()\n",
    "yt_service.ssl = True\n",
    "\n",
    "# a typical playlist URI\n",
    "playlist_uri = \"http://gdata.youtube.com/feeds/api/playlists/PLCD939C4D974A5815\"\n",
    "\n",
    "playlist_video_feed = yt_service.GetYouTubePlaylistVideoFeed(playlist_uri)\n",
    "\n",
    "# iterate through the feed as you would with any other\n",
    "for playlist_video_entry in playlist_video_feed.entry:\n",
    "    print(playlist_video_entry.title.text)"
   ]
  },
  {
   "cell_type": "code",
   "execution_count": null,
   "id": "02c0439b",
   "metadata": {},
   "outputs": [],
   "source": []
  },
  {
   "cell_type": "code",
   "execution_count": null,
   "id": "b369087b",
   "metadata": {},
   "outputs": [],
   "source": []
  },
  {
   "cell_type": "code",
   "execution_count": 11,
   "id": "c66a0dac",
   "metadata": {},
   "outputs": [
    {
     "ename": "KeyError",
     "evalue": "'items'",
     "output_type": "error",
     "traceback": [
      "\u001b[1;31m---------------------------------------------------------------------------\u001b[0m",
      "\u001b[1;31mKeyError\u001b[0m                                  Traceback (most recent call last)",
      "Cell \u001b[1;32mIn[11], line 39\u001b[0m\n\u001b[0;32m     35\u001b[0m             \u001b[38;5;28;01mbreak\u001b[39;00m\n\u001b[0;32m     37\u001b[0m     \u001b[38;5;28;01mreturn\u001b[39;00m videos\n\u001b[1;32m---> 39\u001b[0m videos \u001b[38;5;241m=\u001b[39m get_channel_videos(channel_name)\n",
      "Cell \u001b[1;32mIn[11], line 21\u001b[0m, in \u001b[0;36mget_channel_videos\u001b[1;34m(channel_id)\u001b[0m\n\u001b[0;32m     16\u001b[0m \u001b[38;5;28;01mdef\u001b[39;00m \u001b[38;5;21mget_channel_videos\u001b[39m(channel_id):\n\u001b[0;32m     17\u001b[0m \n\u001b[0;32m     18\u001b[0m \u001b[38;5;66;03m# get Uploads playlist id\u001b[39;00m\n\u001b[0;32m     19\u001b[0m     res \u001b[38;5;241m=\u001b[39m youtube\u001b[38;5;241m.\u001b[39mchannels()\u001b[38;5;241m.\u001b[39mlist(\u001b[38;5;28mid\u001b[39m\u001b[38;5;241m=\u001b[39mchannel_id, \n\u001b[0;32m     20\u001b[0m                               part\u001b[38;5;241m=\u001b[39m\u001b[38;5;124m'\u001b[39m\u001b[38;5;124mcontentDetails\u001b[39m\u001b[38;5;124m'\u001b[39m)\u001b[38;5;241m.\u001b[39mexecute()\n\u001b[1;32m---> 21\u001b[0m     playlist_id \u001b[38;5;241m=\u001b[39m res[\u001b[38;5;124m'\u001b[39m\u001b[38;5;124mitems\u001b[39m\u001b[38;5;124m'\u001b[39m][\u001b[38;5;241m0\u001b[39m][\u001b[38;5;124m'\u001b[39m\u001b[38;5;124mcontentDetails\u001b[39m\u001b[38;5;124m'\u001b[39m][\u001b[38;5;124m'\u001b[39m\u001b[38;5;124mrelatedPlaylists\u001b[39m\u001b[38;5;124m'\u001b[39m][\u001b[38;5;124m'\u001b[39m\u001b[38;5;124muploads\u001b[39m\u001b[38;5;124m'\u001b[39m]\n\u001b[0;32m     23\u001b[0m     videos \u001b[38;5;241m=\u001b[39m []\n\u001b[0;32m     24\u001b[0m     next_page_token \u001b[38;5;241m=\u001b[39m \u001b[38;5;28;01mNone\u001b[39;00m\n",
      "\u001b[1;31mKeyError\u001b[0m: 'items'"
     ]
    }
   ],
   "source": [
    "channel_name=\"josephfox9526\"\n",
    "playlist_name=\"PLlfOdKRE3hkDUPTg2u2x4E18SQxUpRyxK\"\n",
    "\n",
    "from currentsecrets import youtube_token\n",
    "\n",
    "\n",
    "api_key = youtube_token\n",
    "\n",
    "from apiclient.discovery import build\n",
    "import pandas as pd\n",
    "\n",
    "youtube = build('youtube', 'v3', developerKey=api_key)\n",
    "\n",
    "\n",
    "\n",
    "def get_channel_videos(channel_id):\n",
    "\n",
    "# get Uploads playlist id\n",
    "    res = youtube.channels().list(id=channel_id, \n",
    "                              part='contentDetails').execute()\n",
    "    playlist_id = res['items'][0]['contentDetails']['relatedPlaylists']['uploads']\n",
    "\n",
    "    videos = []\n",
    "    next_page_token = None\n",
    "\n",
    "    while 1:\n",
    "        res = youtube.playlistItems().list(playlistId=playlist_name, \n",
    "                                       part='snippet', \n",
    "                                       maxResults=50,\n",
    "                                       pageToken=next_page_token).execute()\n",
    "        videos += res['items']\n",
    "        next_page_token = res.get('nextPageToken')\n",
    "\n",
    "        if next_page_token is None:\n",
    "            break\n",
    "\n",
    "    return videos\n",
    "\n",
    "videos = get_channel_videos(channel_name)"
   ]
  },
  {
   "cell_type": "code",
   "execution_count": null,
   "id": "aa083e14",
   "metadata": {},
   "outputs": [],
   "source": [
    "def get_videos_stats(video_ids):\n",
    "stats = []\n",
    "for i in range(0, len(video_ids), 50):\n",
    "    res = youtube.videos().list(id=','.join(video_ids[i:i+50]),\n",
    "                               part='statistics').execute()\n",
    "    stats += res['items']\n",
    "\n",
    "return stats\n",
    "\n",
    "video_ids = list(map(lambda x:x['snippet']['resourceId']['videoId'], videos))\n",
    "\n",
    "stats = get_videos_stats(video_ids)\n",
    "\n",
    "\n",
    "d = []\n",
    "if len(stats)!=len(videos):\n",
    "    i=1\n",
    "    j=0\n",
    "else:\n",
    "    i=0\n",
    "    j=0\n",
    "len_video = len(videos)\n",
    "len_stats = len(stats)\n",
    "for video in videos:\n",
    "    if i >= len_video:\n",
    "        break\n",
    "    Url_video='https://www.youtube.com/watch?v='+videos[i]['snippet']['resourceId']['videoId']+'&list='+playlist_name\n",
    "    d.append((videos[i]['snippet']['title'], \n",
    "              videos[i]['snippet']['resourceId']['videoId'], \n",
    "              Url_video, \n",
    "              stats[j]['statistics']['viewCount'],\n",
    "              stats[j]['statistics']['likeCount'],\n",
    "              stats[j]['statistics']['dislikeCount']\n",
    "              ))\n",
    "\n",
    "    i+=1\n",
    "    j+=1\n",
    "\n",
    "\n",
    "df=pd.DataFrame(d, columns=('Titre_video', 'ID_video', 'Url_video','vues','like','dislike'))\n",
    "df['vues'] = df['vues'].astype(int)\n",
    "df['like'] = df['like'].astype(int)\n",
    "df['dislike'] = df['dislike'].astype(int)\n",
    "df.index+=1\n",
    "\n",
    "df.to_excel(\"youtube-playlist.xlsx\")"
   ]
  }
 ],
 "metadata": {
  "kernelspec": {
   "display_name": "Python 3 (ipykernel)",
   "language": "python",
   "name": "python3"
  },
  "language_info": {
   "codemirror_mode": {
    "name": "ipython",
    "version": 3
   },
   "file_extension": ".py",
   "mimetype": "text/x-python",
   "name": "python",
   "nbconvert_exporter": "python",
   "pygments_lexer": "ipython3",
   "version": "3.11.5"
  }
 },
 "nbformat": 4,
 "nbformat_minor": 5
}
