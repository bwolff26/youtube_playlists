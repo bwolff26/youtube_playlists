{
 "cells": [
  {
   "cell_type": "code",
   "execution_count": 1,
   "id": "b9534f05",
   "metadata": {},
   "outputs": [
    {
     "ename": "ImportError",
     "evalue": "pafy: youtube-dl not found; you can use the internal backend by setting the environmental variable PAFY_BACKEND to \"internal\". It is not enabled by default because it is not as well maintained as the youtube-dl backend.",
     "output_type": "error",
     "traceback": [
      "\u001b[1;31m---------------------------------------------------------------------------\u001b[0m",
      "\u001b[1;31mModuleNotFoundError\u001b[0m                       Traceback (most recent call last)",
      "File \u001b[1;32m~\\AppData\\Roaming\\Python\\Python311\\site-packages\\pafy\\pafy.py:48\u001b[0m\n\u001b[0;32m     47\u001b[0m \u001b[38;5;28;01mtry\u001b[39;00m:\n\u001b[1;32m---> 48\u001b[0m     \u001b[38;5;28;01mimport\u001b[39;00m \u001b[38;5;21;01myoutube_dl\u001b[39;00m\n\u001b[0;32m     49\u001b[0m     backend \u001b[38;5;241m=\u001b[39m \u001b[38;5;124m\"\u001b[39m\u001b[38;5;124myoutube-dl\u001b[39m\u001b[38;5;124m\"\u001b[39m\n",
      "\u001b[1;31mModuleNotFoundError\u001b[0m: No module named 'youtube_dl'",
      "\nDuring handling of the above exception, another exception occurred:\n",
      "\u001b[1;31mImportError\u001b[0m                               Traceback (most recent call last)",
      "Cell \u001b[1;32mIn[1], line 1\u001b[0m\n\u001b[1;32m----> 1\u001b[0m \u001b[38;5;28;01mimport\u001b[39;00m \u001b[38;5;21;01mpafy\u001b[39;00m\n\u001b[0;32m      2\u001b[0m \u001b[38;5;28;01mimport\u001b[39;00m \u001b[38;5;21;01mpytube\u001b[39;00m\n\u001b[0;32m      3\u001b[0m \u001b[38;5;28;01mimport\u001b[39;00m \u001b[38;5;21;01mpandas\u001b[39;00m \u001b[38;5;28;01mas\u001b[39;00m \u001b[38;5;21;01mpd\u001b[39;00m\n",
      "File \u001b[1;32m~\\AppData\\Roaming\\Python\\Python311\\site-packages\\pafy\\__init__.py:7\u001b[0m\n\u001b[0;32m      3\u001b[0m __license__ \u001b[38;5;241m=\u001b[39m \u001b[38;5;124m\"\u001b[39m\u001b[38;5;124mLGPLv3\u001b[39m\u001b[38;5;124m\"\u001b[39m\n\u001b[0;32m      6\u001b[0m \u001b[38;5;66;03m# External api\u001b[39;00m\n\u001b[1;32m----> 7\u001b[0m \u001b[38;5;28;01mfrom\u001b[39;00m \u001b[38;5;21;01m.\u001b[39;00m\u001b[38;5;21;01mpafy\u001b[39;00m \u001b[38;5;28;01mimport\u001b[39;00m new\n\u001b[0;32m      8\u001b[0m \u001b[38;5;28;01mfrom\u001b[39;00m \u001b[38;5;21;01m.\u001b[39;00m\u001b[38;5;21;01mpafy\u001b[39;00m \u001b[38;5;28;01mimport\u001b[39;00m set_api_key\n\u001b[0;32m      9\u001b[0m \u001b[38;5;28;01mfrom\u001b[39;00m \u001b[38;5;21;01m.\u001b[39;00m\u001b[38;5;21;01mpafy\u001b[39;00m \u001b[38;5;28;01mimport\u001b[39;00m load_cache, dump_cache\n",
      "File \u001b[1;32m~\\AppData\\Roaming\\Python\\Python311\\site-packages\\pafy\\pafy.py:51\u001b[0m\n\u001b[0;32m     49\u001b[0m         backend \u001b[38;5;241m=\u001b[39m \u001b[38;5;124m\"\u001b[39m\u001b[38;5;124myoutube-dl\u001b[39m\u001b[38;5;124m\"\u001b[39m\n\u001b[0;32m     50\u001b[0m     \u001b[38;5;28;01mexcept\u001b[39;00m \u001b[38;5;167;01mImportError\u001b[39;00m:\n\u001b[1;32m---> 51\u001b[0m         \u001b[38;5;28;01mraise\u001b[39;00m \u001b[38;5;167;01mImportError\u001b[39;00m(\n\u001b[0;32m     52\u001b[0m                \u001b[38;5;124m\"\u001b[39m\u001b[38;5;124mpafy: youtube-dl not found; you can use the internal backend by \u001b[39m\u001b[38;5;124m\"\u001b[39m\n\u001b[0;32m     53\u001b[0m                \u001b[38;5;124m\"\u001b[39m\u001b[38;5;124msetting the environmental variable PAFY_BACKEND to \u001b[39m\u001b[38;5;130;01m\\\"\u001b[39;00m\u001b[38;5;124minternal\u001b[39m\u001b[38;5;130;01m\\\"\u001b[39;00m\u001b[38;5;124m. \u001b[39m\u001b[38;5;124m\"\u001b[39m\n\u001b[0;32m     54\u001b[0m                \u001b[38;5;124m\"\u001b[39m\u001b[38;5;124mIt is not enabled by default because it is not as well maintained \u001b[39m\u001b[38;5;124m\"\u001b[39m\n\u001b[0;32m     55\u001b[0m                \u001b[38;5;124m\"\u001b[39m\u001b[38;5;124mas the youtube-dl backend.\u001b[39m\u001b[38;5;124m\"\u001b[39m)\n\u001b[0;32m     57\u001b[0m \u001b[38;5;28;01mif\u001b[39;00m os\u001b[38;5;241m.\u001b[39menviron\u001b[38;5;241m.\u001b[39mget(\u001b[38;5;124m\"\u001b[39m\u001b[38;5;124mpafydebug\u001b[39m\u001b[38;5;124m\"\u001b[39m) \u001b[38;5;241m==\u001b[39m \u001b[38;5;124m\"\u001b[39m\u001b[38;5;124m1\u001b[39m\u001b[38;5;124m\"\u001b[39m:\n\u001b[0;32m     58\u001b[0m     logging\u001b[38;5;241m.\u001b[39mbasicConfig(level\u001b[38;5;241m=\u001b[39mlogging\u001b[38;5;241m.\u001b[39mDEBUG)\n",
      "\u001b[1;31mImportError\u001b[0m: pafy: youtube-dl not found; you can use the internal backend by setting the environmental variable PAFY_BACKEND to \"internal\". It is not enabled by default because it is not as well maintained as the youtube-dl backend."
     ]
    }
   ],
   "source": [
    "import pafy\n",
    "import pytube\n",
    "import pandas as pd"
   ]
  },
  {
   "cell_type": "code",
   "execution_count": 2,
   "id": "77b0fbce",
   "metadata": {},
   "outputs": [
    {
     "name": "stdout",
     "output_type": "stream",
     "text": [
      "Note: you may need to restart the kernel to use updated packages.\n"
     ]
    },
    {
     "name": "stderr",
     "output_type": "stream",
     "text": [
      "\n",
      "Usage:   \n",
      "  C:\\ProgramData\\anaconda3\\python.exe -m pip install [options] <requirement specifier> [package-index-options] ...\n",
      "  C:\\ProgramData\\anaconda3\\python.exe -m pip install [options] -r <requirements file> [package-index-options] ...\n",
      "  C:\\ProgramData\\anaconda3\\python.exe -m pip install [options] [-e] <vcs project url> ...\n",
      "  C:\\ProgramData\\anaconda3\\python.exe -m pip install [options] [-e] <local project path> ...\n",
      "  C:\\ProgramData\\anaconda3\\python.exe -m pip install [options] <archive url/path> ...\n",
      "\n",
      "no such option: --yt-dlp\n"
     ]
    }
   ],
   "source": [
    "pip install --yt-dlp"
   ]
  },
  {
   "cell_type": "code",
   "execution_count": 10,
   "id": "334e7fc0",
   "metadata": {},
   "outputs": [],
   "source": [
    "url = \"https://www.youtube.com/playlist?list=PLlfOdKRE3hkDUPTg2u2x4E18SQxUpRyxK\""
   ]
  },
  {
   "cell_type": "code",
   "execution_count": 12,
   "id": "27cd362b",
   "metadata": {},
   "outputs": [
    {
     "ename": "AttributeError",
     "evalue": "module 'pytube' has no attribute 'new'",
     "output_type": "error",
     "traceback": [
      "\u001b[1;31m---------------------------------------------------------------------------\u001b[0m",
      "\u001b[1;31mAttributeError\u001b[0m                            Traceback (most recent call last)",
      "Cell \u001b[1;32mIn[12], line 13\u001b[0m\n\u001b[0;32m     10\u001b[0m     playlist \u001b[38;5;241m=\u001b[39m pytube\u001b[38;5;241m.\u001b[39mPlaylist(playlist_url)\n\u001b[0;32m     12\u001b[0m     \u001b[38;5;28;01mfor\u001b[39;00m video_url \u001b[38;5;129;01min\u001b[39;00m playlist:\n\u001b[1;32m---> 13\u001b[0m         video \u001b[38;5;241m=\u001b[39m pytube\u001b[38;5;241m.\u001b[39mnew(video_url)\n\u001b[0;32m     14\u001b[0m         result\u001b[38;5;241m.\u001b[39mappend(\n\u001b[0;32m     15\u001b[0m             [\n\u001b[0;32m     16\u001b[0m                 playlist_title,\n\u001b[1;32m   (...)\u001b[0m\n\u001b[0;32m     25\u001b[0m             ]\n\u001b[0;32m     26\u001b[0m         )\n\u001b[0;32m     28\u001b[0m df  \u001b[38;5;241m=\u001b[39m pd\u001b[38;5;241m.\u001b[39mDataFrame(\n\u001b[0;32m     29\u001b[0m     result, \n\u001b[0;32m     30\u001b[0m     columns \u001b[38;5;241m=\u001b[39m [\u001b[38;5;124m'\u001b[39m\u001b[38;5;124mPlaylist\u001b[39m\u001b[38;5;124m'\u001b[39m,\u001b[38;5;124m'\u001b[39m\u001b[38;5;124mTitle\u001b[39m\u001b[38;5;124m'\u001b[39m, \u001b[38;5;124m'\u001b[39m\u001b[38;5;124mViews\u001b[39m\u001b[38;5;124m'\u001b[39m, \u001b[38;5;124m'\u001b[39m\u001b[38;5;124mLikes\u001b[39m\u001b[38;5;124m'\u001b[39m, \u001b[38;5;124m'\u001b[39m\u001b[38;5;124mDislikes\u001b[39m\u001b[38;5;124m'\u001b[39m, \u001b[38;5;124m'\u001b[39m\u001b[38;5;124mDuration\u001b[39m\u001b[38;5;124m'\u001b[39m, \u001b[38;5;124m'\u001b[39m\u001b[38;5;124mVideoID\u001b[39m\u001b[38;5;124m'\u001b[39m, \u001b[38;5;124m'\u001b[39m\u001b[38;5;124mURL\u001b[39m\u001b[38;5;124m'\u001b[39m, \u001b[38;5;124m'\u001b[39m\u001b[38;5;124mPlaylistURL\u001b[39m\u001b[38;5;124m'\u001b[39m]\n\u001b[0;32m     31\u001b[0m )\n",
      "\u001b[1;31mAttributeError\u001b[0m: module 'pytube' has no attribute 'new'"
     ]
    }
   ],
   "source": [
    "all_playlist_urls = {\n",
    "#     'Power Automate Tutorials': 'https://www.youtube.com/playlist?list=PL1myWUzvmmDHFbyPMYLeA3qUZNXGurVWX',\n",
    "#     'Microsoft Excel Tutorials': 'https://www.youtube.com/playlist?list=PL1myWUzvmmDE20xWCuZsUxcB1Y5DfKlpm',\n",
    "#     'Python Tutorials': 'https://www.youtube.com/playlist?list=PL1myWUzvmmDFWkIMzqtzprR9rMo7PheOL',\n",
    "    '1st_Songs' : \"https://www.youtube.com/playlist?list=PLlfOdKRE3hkDUPTg2u2x4E18SQxUpRyxK\"\n",
    "}\n",
    "result = []\n",
    "\n",
    "for playlist_title, playlist_url in all_playlist_urls.items():\n",
    "    playlist = pytube.Playlist(playlist_url)\n",
    "    \n",
    "    for video_url in playlist:\n",
    "        video = pytube.new(video_url)\n",
    "        result.append(\n",
    "            [\n",
    "                playlist_title,\n",
    "                video.title, \n",
    "                video.viewcount, \n",
    "                video.likes, \n",
    "                video.dislikes, \n",
    "                video.duration, \n",
    "                video.videoid,\n",
    "                video_url,\n",
    "                playlist_url\n",
    "            ]\n",
    "        )\n",
    "\n",
    "df  = pd.DataFrame(\n",
    "    result, \n",
    "    columns = ['Playlist','Title', 'Views', 'Likes', 'Dislikes', 'Duration', 'VideoID', 'URL', 'PlaylistURL']\n",
    ")"
   ]
  },
  {
   "cell_type": "code",
   "execution_count": 9,
   "id": "c5c6059a",
   "metadata": {},
   "outputs": [
    {
     "data": {
      "text/html": [
       "<div>\n",
       "<style scoped>\n",
       "    .dataframe tbody tr th:only-of-type {\n",
       "        vertical-align: middle;\n",
       "    }\n",
       "\n",
       "    .dataframe tbody tr th {\n",
       "        vertical-align: top;\n",
       "    }\n",
       "\n",
       "    .dataframe thead th {\n",
       "        text-align: right;\n",
       "    }\n",
       "</style>\n",
       "<table border=\"1\" class=\"dataframe\">\n",
       "  <thead>\n",
       "    <tr style=\"text-align: right;\">\n",
       "      <th></th>\n",
       "      <th>Playlist</th>\n",
       "      <th>Title</th>\n",
       "      <th>Views</th>\n",
       "      <th>Likes</th>\n",
       "      <th>Dislikes</th>\n",
       "      <th>Duration</th>\n",
       "      <th>VideoID</th>\n",
       "      <th>URL</th>\n",
       "      <th>PlaylistURL</th>\n",
       "    </tr>\n",
       "  </thead>\n",
       "  <tbody>\n",
       "  </tbody>\n",
       "</table>\n",
       "</div>"
      ],
      "text/plain": [
       "Empty DataFrame\n",
       "Columns: [Playlist, Title, Views, Likes, Dislikes, Duration, VideoID, URL, PlaylistURL]\n",
       "Index: []"
      ]
     },
     "execution_count": 9,
     "metadata": {},
     "output_type": "execute_result"
    }
   ],
   "source": []
  },
  {
   "cell_type": "code",
   "execution_count": null,
   "id": "a5f5999b",
   "metadata": {},
   "outputs": [],
   "source": []
  }
 ],
 "metadata": {
  "kernelspec": {
   "display_name": "Python 3 (ipykernel)",
   "language": "python",
   "name": "python3"
  },
  "language_info": {
   "codemirror_mode": {
    "name": "ipython",
    "version": 3
   },
   "file_extension": ".py",
   "mimetype": "text/x-python",
   "name": "python",
   "nbconvert_exporter": "python",
   "pygments_lexer": "ipython3",
   "version": "3.11.5"
  }
 },
 "nbformat": 4,
 "nbformat_minor": 5
}
